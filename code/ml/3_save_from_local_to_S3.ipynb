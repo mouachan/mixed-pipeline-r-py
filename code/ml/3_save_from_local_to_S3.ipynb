{
 "cells": [
  {
   "cell_type": "code",
   "execution_count": 1,
   "id": "541d6ea0-9d2d-4eb2-ac09-364068acf620",
   "metadata": {},
   "outputs": [],
   "source": [
    "import os\n",
    "import boto3\n",
    "import botocore"
   ]
  },
  {
   "cell_type": "code",
   "execution_count": 1,
   "id": "36017164-7bb1-40a1-9c5f-e48075e9ce43",
   "metadata": {
    "tags": []
   },
   "outputs": [
    {
     "ename": "NameError",
     "evalue": "name 'os' is not defined",
     "output_type": "error",
     "traceback": [
      "\u001b[0;31m---------------------------------------------------------------------------\u001b[0m",
      "\u001b[0;31mNameError\u001b[0m                                 Traceback (most recent call last)",
      "Cell \u001b[0;32mIn[1], line 1\u001b[0m\n\u001b[0;32m----> 1\u001b[0m access_key_id \u001b[38;5;241m=\u001b[39m \u001b[43mos\u001b[49m\u001b[38;5;241m.\u001b[39menviron\u001b[38;5;241m.\u001b[39mget(\u001b[38;5;124m'\u001b[39m\u001b[38;5;124mS3_ACCESS_KEY_ID\u001b[39m\u001b[38;5;124m'\u001b[39m)\n\u001b[1;32m      2\u001b[0m secret_access_key \u001b[38;5;241m=\u001b[39m os\u001b[38;5;241m.\u001b[39menviron\u001b[38;5;241m.\u001b[39mget(\u001b[38;5;124m'\u001b[39m\u001b[38;5;124mS3_SECRET_ACCESS_KEY\u001b[39m\u001b[38;5;124m'\u001b[39m)\n\u001b[1;32m      3\u001b[0m endpoint_url \u001b[38;5;241m=\u001b[39m os\u001b[38;5;241m.\u001b[39menviron\u001b[38;5;241m.\u001b[39mget(\u001b[38;5;124m'\u001b[39m\u001b[38;5;124mS3_ENDPOINT\u001b[39m\u001b[38;5;124m'\u001b[39m)\n",
      "\u001b[0;31mNameError\u001b[0m: name 'os' is not defined"
     ]
    }
   ],
   "source": [
    "access_key_id = os.environ.get('S3_ACCESS_KEY_ID')\n",
    "secret_access_key = os.environ.get('S3_SECRET_ACCESS_KEY')\n",
    "endpoint_url = os.environ.get('S3_ENDPOINT')\n",
    "region_name = \"\"\n",
    "bucket_name = os.environ.get('S3_BUCKET')\n",
    "working_folder = \".\"\n",
    "s3_folder = \"models/\""
   ]
  },
  {
   "cell_type": "code",
   "execution_count": 3,
   "id": "9e547a3d-0252-4e63-bf47-365c8a76754e",
   "metadata": {},
   "outputs": [],
   "source": [
    "session = boto3.session.Session(\n",
    "    aws_access_key_id = access_key_id,\n",
    "    aws_secret_access_key = secret_access_key)\n",
    "\n",
    "s3_resource = session.resource(\n",
    "    's3',\n",
    "    config = botocore.client.Config(signature_version='s3v4'),\n",
    "    endpoint_url = endpoint_url,\n",
    "    region_name = region_name)\n",
    "\n",
    "bucket = s3_resource.Bucket(bucket_name)"
   ]
  },
  {
   "cell_type": "code",
   "execution_count": 4,
   "id": "c73aad5c-9c63-4ffc-8303-4724cd472b10",
   "metadata": {},
   "outputs": [
    {
     "name": "stdout",
     "output_type": "stream",
     "text": [
      "my_folder/preprocessor_config.json -> ocr-demo/preprocessor_config.json\n",
      "my_folder/tokenizer_config.json -> ocr-demo/tokenizer_config.json\n",
      "my_folder/config.json -> ocr-demo/config.json\n",
      "my_folder/tokenizer.json -> ocr-demo/tokenizer.json\n",
      "my_folder/generation_config.json -> ocr-demo/generation_config.json\n",
      "my_folder/model.onnx -> ocr-demo/model.onnx\n",
      "my_folder/special_tokens_map.json -> ocr-demo/special_tokens_map.json\n",
      "my_folder/vocab.json -> ocr-demo/vocab.json\n",
      "my_folder/merges.txt -> ocr-demo/merges.txt\n"
     ]
    }
   ],
   "source": [
    "def upload_directory_to_s3(local_directory, s3_prefix):\n",
    "    for root, dirs, files in os.walk(local_directory):\n",
    "        for filename in files:\n",
    "            file_path = os.path.join(root, filename)\n",
    "            relative_path = os.path.relpath(file_path, local_directory)\n",
    "            s3_key = os.path.join(s3_prefix, relative_path)\n",
    "            print(f\"{file_path} -> {s3_key}\")\n",
    "            bucket.upload_file(file_path, s3_key)\n",
    "\n",
    "upload_directory_to_s3(working_folder, s3_folder)"
   ]
  },
  {
   "cell_type": "code",
   "execution_count": 5,
   "id": "5e670316-c203-470a-83b1-274ba65f0f67",
   "metadata": {},
   "outputs": [
    {
     "name": "stdout",
     "output_type": "stream",
     "text": [
      "ocr-demo/config.json\n",
      "ocr-demo/generation_config.json\n",
      "ocr-demo/merges.txt\n",
      "ocr-demo/model.onnx\n",
      "ocr-demo/preprocessor_config.json\n",
      "ocr-demo/special_tokens_map.json\n",
      "ocr-demo/tokenizer.json\n",
      "ocr-demo/tokenizer_config.json\n",
      "ocr-demo/vocab.json\n"
     ]
    }
   ],
   "source": [
    "def list_objects(prefix):\n",
    "    filter = bucket.objects.filter(Prefix=prefix)\n",
    "    for obj in filter.all():\n",
    "        print(obj.key)\n",
    "        \n",
    "list_objects(s3_folder)"
   ]
  }
 ],
 "metadata": {
  "kernelspec": {
   "display_name": "Python 3.9",
   "language": "python",
   "name": "python3"
  },
  "language_info": {
   "codemirror_mode": {
    "name": "ipython",
    "version": 3
   },
   "file_extension": ".py",
   "mimetype": "text/x-python",
   "name": "python",
   "nbconvert_exporter": "python",
   "pygments_lexer": "ipython3",
   "version": "3.9.16"
  }
 },
 "nbformat": 4,
 "nbformat_minor": 5
}
